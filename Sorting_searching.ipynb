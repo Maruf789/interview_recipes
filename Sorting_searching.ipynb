{
 "cells": [
  {
   "cell_type": "code",
   "execution_count": null,
   "metadata": {},
   "outputs": [],
   "source": [
    "\"\"\"Quick SORT: Time: O(n log(n)), Space: O(1)\"\"\"\n",
    "\n",
    "# Python program for implementation of Quicksort Sort\n",
    "\n",
    "# This function takes last element as pivot, places\n",
    "# the pivot element at its correct position in sorted\n",
    "# array, and places all smaller (smaller than pivot)\n",
    "# to left of pivot and all greater elements to right\n",
    "# of pivot\n",
    "def partition(arr,low,high):\n",
    "    i = ( low-1 ) # index of smaller element\n",
    "    pivot = arr[high] # pivot\n",
    "\n",
    "    for j in range(low , high):\n",
    "        # If current element is smaller than or\n",
    "        # equal to pivot\n",
    "        if arr[j] <= pivot:\n",
    "        # increment index of smaller element\n",
    "            i = i+1\n",
    "            arr[i],arr[j] = arr[j],arr[i]\n",
    "\n",
    "    arr[i+1],arr[high] = arr[high],arr[i+1]\n",
    "    return ( i+1 )\n",
    "\n",
    "# The main function that implements QuickSort\n",
    "# arr[] --> Array to be sorted,\n",
    "# low --> Starting index,\n",
    "# high --> Ending index\n",
    "\n",
    "# Function to do Quick sort\n",
    "def quickSort(arr, low, high):\n",
    "    if low < high:\n",
    "        # pi is partitioning index, arr[p] is now\n",
    "        # at right place\n",
    "        pi = partition(arr,low,high)\n",
    "        # Separately sort elements before\n",
    "        # partition and after partition\n",
    "        quickSort(arr, low, pi-1)\n",
    "        quickSort(arr, pi+1, high)\n",
    "    return arr\n",
    "\n",
    "# Driver code to test above\n",
    "arr = [21, 4, 1, 3, 9, 20, 25, 6, 21, 14]\n",
    "n = len(arr)\n",
    "print (\"Sorted array is:\", quickSort(arr,0,n-1)) "
   ]
  },
  {
   "cell_type": "code",
   "execution_count": null,
   "metadata": {},
   "outputs": [],
   "source": [
    "\"\"\"MERGE SORT: Time: O(n log(n)), Space: O(n)\"\"\"\n",
    "\n",
    "def merge_sort(arr):   \n",
    "    if len(arr)>1:\n",
    "        mid = len(arr)//2\n",
    "        left_half = arr[:mid]\n",
    "        right_half = arr[mid:]\n",
    "        merge_sort(left_half)\n",
    "        merge_sort(right_half)\n",
    "        merge(arr, left_half, right_half)\n",
    "        \n",
    "    return arr\n",
    "\n",
    "def merge(arr, left_half, right_half):\n",
    "    print(\"============left: \", left_half, \"; right: \", right_half, \"===============\")\n",
    "    i=0\n",
    "    j=0\n",
    "    k=0\n",
    "\n",
    "    while i < len(left_half) and j < len(right_half):\n",
    "        if left_half[i] < right_half[j]:\n",
    "            arr[k]=left_half[i]\n",
    "            i=i+1\n",
    "        else:\n",
    "            arr[k]=right_half[j]\n",
    "            j=j+1\n",
    "        k=k+1\n",
    "    print(\"merge step 1 (both): \", arr)\n",
    "    \n",
    "    while i < len(left_half):\n",
    "        arr[k]=left_half[i]\n",
    "        i=i+1\n",
    "        k=k+1\n",
    "    print(\"merge step 2 (left): \", arr)\n",
    "    \n",
    "    while j < len(right_half):\n",
    "        arr[k]=right_half[j]\n",
    "        j=j+1\n",
    "        k=k+1\n",
    "    print(\"merge step 3 (right): \", arr)\n",
    "\n",
    "arr = [21, 4, 1, 3, 9, 20, 25, 6, 21, 14]\n",
    "print(\"Original: \", arr)\n",
    "print(\"Result:   \", merge_sort(arr))"
   ]
  },
  {
   "cell_type": "code",
   "execution_count": 2,
   "metadata": {},
   "outputs": [
    {
     "ename": "SyntaxError",
     "evalue": "unexpected character after line continuation character (<ipython-input-2-dc2715859281>, line 2)",
     "output_type": "error",
     "traceback": [
      "\u001b[0;36m  File \u001b[0;32m\"<ipython-input-2-dc2715859281>\"\u001b[0;36m, line \u001b[0;32m2\u001b[0m\n\u001b[0;31m    def bubble_sort(arr):\\n\",\u001b[0m\n\u001b[0m                             ^\u001b[0m\n\u001b[0;31mSyntaxError\u001b[0m\u001b[0;31m:\u001b[0m unexpected character after line continuation character\n"
     ]
    }
   ],
   "source": [
    "\"\"\"BUBBLE SORT: Time: O(n^2), Space: O(1)\"\"\"\n",
    "def bubble_sort(arr):\n",
    "    print(\"My initial solution: \"),\n",
    "    print(arr, \\\" (original array)\\\")\\n\",\n",
    "    for x in range(len(arr)):\\n\",\n",
    "        k = x,\n",
    "        for y in range(k, len(arr)):\\n\",\n",
    "            if (arr[x] > arr[y]):\\n\",\n",
    "            arr[x], arr[y] = arr[y], arr[x]\\n\",\n",
    "    \n",
    "    return arr\n",
    "          \n",
    "arr = [21, 4, 1, 3, 9, 20, 25, 6, 21, 14]\n",
    "print(bubble_sort(arr))"
   ]
  },
  {
   "cell_type": "code",
   "execution_count": null,
   "metadata": {},
   "outputs": [],
   "source": []
  }
 ],
 "metadata": {
  "kernelspec": {
   "display_name": "Python 3",
   "language": "python",
   "name": "python3"
  },
  "language_info": {
   "codemirror_mode": {
    "name": "ipython",
    "version": 3
   },
   "file_extension": ".py",
   "mimetype": "text/x-python",
   "name": "python",
   "nbconvert_exporter": "python",
   "pygments_lexer": "ipython3",
   "version": "3.7.0"
  }
 },
 "nbformat": 4,
 "nbformat_minor": 2
}
