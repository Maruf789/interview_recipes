{
 "cells": [
  {
   "cell_type": "code",
   "execution_count": 7,
   "metadata": {},
   "outputs": [
    {
     "data": {
      "text/plain": [
       "[[[-1, -1, -1, -1, -1],\n",
       "  [-1, -1, -1, -1, -1],\n",
       "  [-1, -1, -1, -1, -1],\n",
       "  [-1, -1, -1, -1, -1]],\n",
       " [[-1, -1, -1, -1, -1],\n",
       "  [-1, -1, -1, -1, -1],\n",
       "  [-1, -1, -1, -1, -1],\n",
       "  [-1, -1, -1, -1, -1]],\n",
       " [[-1, -1, -1, -1, -1],\n",
       "  [-1, -1, -1, -1, -1],\n",
       "  [-1, -1, -1, -1, -1],\n",
       "  [-1, -1, -1, -1, -1]],\n",
       " [[-1, -1, -1, -1, -1],\n",
       "  [-1, -1, -1, -1, -1],\n",
       "  [-1, -1, -1, -1, -1],\n",
       "  [-1, -1, -1, -1, -1]],\n",
       " [[-1, -1, -1, -1, -1],\n",
       "  [-1, -1, -1, -1, -1],\n",
       "  [-1, -1, -1, -1, -1],\n",
       "  [-1, -1, -1, -1, -1]]]"
      ]
     },
     "execution_count": 7,
     "metadata": {},
     "output_type": "execute_result"
    }
   ],
   "source": [
    "n1 = 5\n",
    "n2 = 4\n",
    "maxLength = max(n1, n2)\n",
    "dp = [[[-1 for _ in range(maxLength)] for _ in range(n2)]\n",
    "        for _ in range(n1)]\n",
    "dp\n"
   ]
  },
  {
   "cell_type": "code",
   "execution_count": null,
   "metadata": {},
   "outputs": [],
   "source": []
  }
 ],
 "metadata": {
  "kernelspec": {
   "display_name": "Python 3",
   "language": "python",
   "name": "python3"
  },
  "language_info": {
   "codemirror_mode": {
    "name": "ipython",
    "version": 3
   },
   "file_extension": ".py",
   "mimetype": "text/x-python",
   "name": "python",
   "nbconvert_exporter": "python",
   "pygments_lexer": "ipython3",
   "version": "3.7.0"
  }
 },
 "nbformat": 4,
 "nbformat_minor": 2
}
