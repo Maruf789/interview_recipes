{
 "cells": [
  {
   "cell_type": "code",
   "execution_count": 7,
   "metadata": {},
   "outputs": [
    {
     "data": {
      "text/plain": [
       "[[[-1, -1, -1, -1, -1],\n",
       "  [-1, -1, -1, -1, -1],\n",
       "  [-1, -1, -1, -1, -1],\n",
       "  [-1, -1, -1, -1, -1]],\n",
       " [[-1, -1, -1, -1, -1],\n",
       "  [-1, -1, -1, -1, -1],\n",
       "  [-1, -1, -1, -1, -1],\n",
       "  [-1, -1, -1, -1, -1]],\n",
       " [[-1, -1, -1, -1, -1],\n",
       "  [-1, -1, -1, -1, -1],\n",
       "  [-1, -1, -1, -1, -1],\n",
       "  [-1, -1, -1, -1, -1]],\n",
       " [[-1, -1, -1, -1, -1],\n",
       "  [-1, -1, -1, -1, -1],\n",
       "  [-1, -1, -1, -1, -1],\n",
       "  [-1, -1, -1, -1, -1]],\n",
       " [[-1, -1, -1, -1, -1],\n",
       "  [-1, -1, -1, -1, -1],\n",
       "  [-1, -1, -1, -1, -1],\n",
       "  [-1, -1, -1, -1, -1]]]"
      ]
     },
     "execution_count": 7,
     "metadata": {},
     "output_type": "execute_result"
    }
   ],
   "source": [
    "n1 = 5\n",
    "n2 = 4\n",
    "maxLength = max(n1, n2)\n",
    "dp = [[[-1 for _ in range(maxLength)] for _ in range(n2)]\n",
    "        for _ in range(n1)]\n",
    "dp\n"
   ]
  },
  {
   "cell_type": "code",
   "execution_count": 32,
   "metadata": {},
   "outputs": [
    {
     "name": "stdout",
     "output_type": "stream",
     "text": [
      "Selected weights are: 5 2 \n",
      "Total knapsack profit: 22\n",
      "Selected weights are: 3 2 1 \n",
      "Total knapsack profit: 17\n"
     ]
    }
   ],
   "source": [
    "def solve_knapsack(profits, weights, capacity):\n",
    "  # basic checks\n",
    "  n = len(profits)\n",
    "  if capacity <= 0 or n == 0 or len(weights) != n:\n",
    "    return 0\n",
    "\n",
    "  dp = [[0 for x in range(capacity+1)] for y in range(n)]\n",
    "\n",
    "  # populate the capacity = 0 columns, with '0' capacity we have '0' profit\n",
    "  for i in range(0, n):\n",
    "    dp[i][0] = 0\n",
    "\n",
    "  # if we have only one weight, we will take it if it is not more than the capacity\n",
    "  for c in range(0, capacity+1):\n",
    "    if weights[0] <= c:\n",
    "      dp[0][c] = profits[0]\n",
    "\n",
    "  # process all sub-arrays for all the capacities\n",
    "  for i in range(1, n):\n",
    "    for c in range(1, capacity+1):\n",
    "      profit1, profit2 = 0, 0\n",
    "      # include the item, if it is not more than the capacity\n",
    "      if weights[i] <= c:\n",
    "        profit1 = profits[i] + dp[i - 1][c - weights[i]]\n",
    "      # exclude the item\n",
    "      profit2 = dp[i - 1][c]\n",
    "      # take maximum\n",
    "      dp[i][c] = max(profit1, profit2)\n",
    "\n",
    "  print_selected_elements(dp, weights, profits, capacity)\n",
    "  # maximum profit will be at the bottom-right corner.\n",
    "  return dp[n - 1][capacity]\n",
    "\n",
    "\n",
    "def print_selected_elements(dp, weights, profits, capacity):\n",
    "  print(\"Selected weights are: \", end='')\n",
    "  lengthCount = len(weights)\n",
    "  totalProfit = dp[lengthCount-1][capacity]\n",
    "  for i in range(lengthCount-1, -1, -1):\n",
    "    if totalProfit != dp[i - 1][capacity]:\n",
    "      print(str(weights[i]) + \" \", end='')\n",
    "      capacity -= weights[i]\n",
    "      totalProfit -= profits[i]\n",
    "\n",
    "  if totalProfit != 0:\n",
    "    print(str(weights[0]) + \" \", end='')\n",
    "  print()\n",
    "\n",
    "\n",
    "def main():\n",
    "  print(\"Total knapsack profit: \" +\n",
    "        str(solve_knapsack([1, 6, 10, 16], [1, 2, 3, 5], 7)))\n",
    "  print(\"Total knapsack profit: \" +\n",
    "        str(solve_knapsack([1, 6, 10, 16], [1, 2, 3, 5], 6)))\n",
    "\n",
    "\n",
    "main()"
   ]
  },
  {
   "cell_type": "code",
   "execution_count": null,
   "metadata": {},
   "outputs": [],
   "source": []
  }
 ],
 "metadata": {
  "kernelspec": {
   "display_name": "Python 3",
   "language": "python",
   "name": "python3"
  },
  "language_info": {
   "codemirror_mode": {
    "name": "ipython",
    "version": 3
   },
   "file_extension": ".py",
   "mimetype": "text/x-python",
   "name": "python",
   "nbconvert_exporter": "python",
   "pygments_lexer": "ipython3",
   "version": "3.7.4"
  }
 },
 "nbformat": 4,
 "nbformat_minor": 2
}
