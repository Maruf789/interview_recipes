{
 "cells": [
  {
   "cell_type": "code",
   "execution_count": 2,
   "metadata": {},
   "outputs": [
    {
     "name": "stdout",
     "output_type": "stream",
     "text": [
      "True\n",
      "dog\n",
      "3\n",
      "False\n",
      "Stack: 4 dog True 8.4\n",
      "8.4\n",
      "True\n",
      "2\n"
     ]
    }
   ],
   "source": [
    "class Stack:\n",
    "    def __init__(self):\n",
    "        self.items = []\n",
    "\n",
    "    def isEmpty(self):\n",
    "         return self.items == []\n",
    "\n",
    "    def push(self, item):\n",
    "         self.items.append(item)\n",
    "\n",
    "    def pop(self):\n",
    "         return self.items.pop()\n",
    "\n",
    "    def peek(self):\n",
    "         return self.items[len(self.items)-1]\n",
    "\n",
    "    def size(self):\n",
    "         return len(self.items)\n",
    "        \n",
    "    def __str__(self):\n",
    "        return \"Stack: \" + ' '.join([str(item) for item in self.items])\n",
    "        \n",
    "if __name__ == \"__main__\":\n",
    "    s=Stack()\n",
    "    print(s.isEmpty())\n",
    "    s.push(4)\n",
    "    s.push('dog')\n",
    "    print(s.peek())\n",
    "    s.push(True)\n",
    "    print(s.size())\n",
    "    print(s.isEmpty())\n",
    "    s.push(8.4)\n",
    "    print(s)\n",
    "    print(s.pop())\n",
    "    print(s.pop())\n",
    "    print(s.size())"
   ]
  },
  {
   "cell_type": "code",
   "execution_count": 4,
   "metadata": {},
   "outputs": [
    {
     "name": "stdout",
     "output_type": "stream",
     "text": [
      "4\n",
      "Queue: 5 dog True Hi\n"
     ]
    }
   ],
   "source": [
    "from collections import deque\n",
    "\n",
    "class Queue:\n",
    "    def __init__(self):\n",
    "        self.items = deque()\n",
    "\n",
    "    def isEmpty(self):\n",
    "        return list[self.items] == []\n",
    "\n",
    "    def enqueue(self, item):\n",
    "        self.items.append(item)\n",
    "\n",
    "    def dequeue(self):\n",
    "        return self.items.popleft()\n",
    "\n",
    "    def size(self):\n",
    "        return len(self.items)\n",
    "    \n",
    "    def __str__(self):\n",
    "        return \"Queue: \" + ' '.join([str(item) for item in self.items])\n",
    "    \n",
    "if __name__ == \"__main__\":\n",
    "    q=Queue()\n",
    "    q.enqueue(4)\n",
    "    q.enqueue(5)\n",
    "    q.enqueue('dog')\n",
    "    q.enqueue(True)\n",
    "    q.enqueue(\"Hi\")\n",
    "    q.dequeue()\n",
    "    print(q.size())\n",
    "    print(q)"
   ]
  },
  {
   "cell_type": "code",
   "execution_count": null,
   "metadata": {},
   "outputs": [],
   "source": []
  },
  {
   "cell_type": "code",
   "execution_count": null,
   "metadata": {},
   "outputs": [],
   "source": []
  }
 ],
 "metadata": {
  "kernelspec": {
   "display_name": "Python 3",
   "language": "python",
   "name": "python3"
  },
  "language_info": {
   "codemirror_mode": {
    "name": "ipython",
    "version": 3
   },
   "file_extension": ".py",
   "mimetype": "text/x-python",
   "name": "python",
   "nbconvert_exporter": "python",
   "pygments_lexer": "ipython3",
   "version": "3.7.0"
  }
 },
 "nbformat": 4,
 "nbformat_minor": 2
}
