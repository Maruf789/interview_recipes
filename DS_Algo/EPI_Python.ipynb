{
 "cells": [
  {
   "cell_type": "code",
   "execution_count": null,
   "metadata": {},
   "outputs": [],
   "source": [
    "\"\"\" Find h-index \"\"\"\n",
    "\n",
    "def h_index(citations):\n",
    "    citations.sort()\n",
    "    n = len(citations)\n",
    "    print(\"citations: \", citations)\n",
    "    print(\"length of citations: \", n)\n",
    "    for i, c in enumerate(citations):\n",
    "        print(\"i: \" + str(i) + \", c:\" + str(c))\n",
    "        if c >= n - i:\n",
    "            print(\"n - i: \", n-i)\n",
    "            return n - i\n",
    "    return 0\n",
    "\n",
    "cited = [1,4,1,4,2,1,3,5,6]\n",
    "h_index(cited)"
   ]
  },
  {
   "cell_type": "code",
   "execution_count": null,
   "metadata": {},
   "outputs": [],
   "source": [
    "\"\"\"Recursion:\n",
    "gcd (greatest common divisor)\"\"\"\n",
    "\n",
    "def gcd(x: int, y: int) -> int:\n",
    "    return x if y ==0 else gcd(y, x%y)\n",
    "gcd(12, 56)"
   ]
  },
  {
   "cell_type": "code",
   "execution_count": null,
   "metadata": {},
   "outputs": [],
   "source": [
    "\"\"\"Phone Numbers Mnemonic\"\"\"\n",
    "import itertools\n",
    "\n",
    "def phone_mnemonic(phone_number):  # iterative\n",
    "    # TODO - you fill in here.\n",
    "    mapping = dict(enumerate(['0', '1', 'ABC', 'DEF', 'GHI', 'JKL', 'MNO', 'PQRS', 'TUV', 'WXYZ'], 0))\n",
    "#     combination = []\n",
    "    if len(phone_number) > 0:\n",
    "#         for digit in phone_number:\n",
    "#             combination.append(mapping[int(digit)])\n",
    "#         return [''.join(word) for word in itertools.product(*combination)]\n",
    "        return [''.join(word) for word in itertools.product(*(mapping[int(digit)] for digit in phone_number))]\n",
    "    \n",
    "    return []\n",
    "\n",
    "print(phone_mnemonic('2976'))"
   ]
  },
  {
   "cell_type": "code",
   "execution_count": null,
   "metadata": {},
   "outputs": [],
   "source": [
    "\"\"\"Recursion:\n",
    "solve n-queens in n X n chessboard ????\"\"\"\n",
    "\n",
    "def n_queens(n):   \n",
    "    def solve_n_queens(row):\n",
    "        if row == n:\n",
    "            # All queens are legally placed.\n",
    "            result.append(list(col_placement))\n",
    "            return\n",
    "        for col in range(n):\n",
    "            for i, c in list(enumerate(col_placement[:row])):\n",
    "                print(\"enumerate(col_placement[:row]): {a} c: {b} col: {c} abs(c-col): {d} (0, row -i): {e} \"\n",
    "                      .format(a=list(enumerate(col_placement[:row])), b=c, c=col, d=abs(c-col), \n",
    "                              e=list(range(0, row -i))))\n",
    "            # Test if a newly placed queen will conflict any earlier queens\n",
    "            if all(\n",
    "                    abs(c - col) not in (0, row - i)\n",
    "                    for i, c in enumerate(col_placement[:row])):\n",
    "                col_placement[row] = col\n",
    "                solve_n_queens(row + 1)\n",
    "\n",
    "    result = []\n",
    "    col_placement = [0] * n\n",
    "    solve_n_queens(0)\n",
    "    return result\n",
    "\n",
    "print(n_queens(4))"
   ]
  },
  {
   "cell_type": "code",
   "execution_count": null,
   "metadata": {},
   "outputs": [],
   "source": []
  },
  {
   "cell_type": "code",
   "execution_count": null,
   "metadata": {},
   "outputs": [],
   "source": []
  },
  {
   "cell_type": "code",
   "execution_count": null,
   "metadata": {},
   "outputs": [],
   "source": []
  }
 ],
 "metadata": {
  "kernelspec": {
   "display_name": "Python 3",
   "language": "python",
   "name": "python3"
  },
  "language_info": {
   "codemirror_mode": {
    "name": "ipython",
    "version": 3
   },
   "file_extension": ".py",
   "mimetype": "text/x-python",
   "name": "python",
   "nbconvert_exporter": "python",
   "pygments_lexer": "ipython3",
   "version": "3.7.0"
  }
 },
 "nbformat": 4,
 "nbformat_minor": 2
}
