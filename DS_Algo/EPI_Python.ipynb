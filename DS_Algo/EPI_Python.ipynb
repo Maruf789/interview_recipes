{
 "cells": [
  {
   "cell_type": "code",
   "execution_count": null,
   "metadata": {},
   "outputs": [],
   "source": [
    "\"\"\" Find h-index \"\"\"\n",
    "\n",
    "def h_index(citations):\n",
    "    citations.sort()\n",
    "    n = len(citations)\n",
    "    print(\"citations: \", citations)\n",
    "    print(\"length of citations: \", n)\n",
    "    for i, c in enumerate(citations):\n",
    "        print(\"i: \" + str(i) + \", c:\" + str(c))\n",
    "        if c >= n - i:\n",
    "            print(\"n - i: \", n-i)\n",
    "            return n - i\n",
    "    return 0\n",
    "\n",
    "cited = [1,4,1,4,2,1,3,5,6]\n",
    "h_index(cited)"
   ]
  },
  {
   "cell_type": "code",
   "execution_count": null,
   "metadata": {},
   "outputs": [],
   "source": [
    "\"\"\"Recursion:\n",
    "gcd (greatest common divisor)\"\"\"\n",
    "\n",
    "def gcd(x: int, y: int) -> int:\n",
    "    return x if y ==0 else gcd(y, x%y)\n",
    "gcd(12, 56)"
   ]
  },
  {
   "cell_type": "code",
   "execution_count": null,
   "metadata": {},
   "outputs": [],
   "source": [
    "\"\"\"Phone Numbers Mnemonic\"\"\"\n",
    "import itertools\n",
    "\n",
    "def phone_mnemonic(phone_number):  # iterative\n",
    "    mapping = dict(enumerate(['0', '1', 'ABC', 'DEF', 'GHI', 'JKL', 'MNO', 'PQRS', 'TUV', 'WXYZ']))\n",
    "    combination = []\n",
    "    if len(phone_number) > 0:\n",
    "        for digit in phone_number:\n",
    "            combination.append(mapping[int(digit)])\n",
    "        return [''.join(word) for word in itertools.product(*combination)]\n",
    "#         return [''.join(word) for word in itertools.product(*(mapping[int(digit)] for digit in phone_number))]\n",
    "    \n",
    "    return []\n",
    "\n",
    "print(phone_mnemonic('2976'))"
   ]
  },
  {
   "cell_type": "code",
   "execution_count": null,
   "metadata": {},
   "outputs": [],
   "source": [
    "\"\"\"Recursion:\n",
    "solve n-queens in n X n chessboard ????\"\"\"\n",
    "\n",
    "def n_queens(n):   \n",
    "    def solve_n_queens(row):\n",
    "        if row == n:\n",
    "            # All queens are legally placed.\n",
    "            result.append(list(col_placement))\n",
    "            return\n",
    "        for col in range(n):\n",
    "            for i, c in list(enumerate(col_placement[:row])):\n",
    "                print(\"enumerate(col_placement[:{row}]):{a} i: {i} c: {b} col: {c} abs({c}-{col}): {d} (0, {row}-{i}): {e} \"\n",
    "                      .format(row=row, a=list(enumerate(col_placement[:row])), \n",
    "                              i=i, b=c, c=c, col=col,\n",
    "                              d=abs(c-col), \n",
    "                              e=list(range(0, row -i))))\n",
    "            # Test if a newly placed queen will conflict any earlier queens\n",
    "            if all(\n",
    "                    abs(c - col) not in (0, row - i)\n",
    "                    for i, c in enumerate(col_placement[:row])):\n",
    "                col_placement[row] = col\n",
    "                solve_n_queens(row + 1)\n",
    "\n",
    "    result = []\n",
    "    col_placement = [0] * n\n",
    "    solve_n_queens(0)\n",
    "    return result\n",
    "\n",
    "print(n_queens(4))"
   ]
  },
  {
   "cell_type": "code",
   "execution_count": null,
   "metadata": {},
   "outputs": [],
   "source": [
    "def count_bits(x): \n",
    "    num_bits = 0\n",
    "    while x:\n",
    "        print(\"x & 1: \", x&1)\n",
    "        num_bits += x & 1\n",
    "        print(\"num_bits: \", num_bits)\n",
    "        x >>= 1\n",
    "        print(\"x: \", x)\n",
    "    return num_bits\n",
    "\n",
    "print(count_bits(101))"
   ]
  },
  {
   "cell_type": "code",
   "execution_count": null,
   "metadata": {},
   "outputs": [],
   "source": [
    "\"\"\"Recursion: Tower of Hanoi\"\"\"\n",
    "\n",
    "def compute_tower_hanoi(num_pegs, num_rings):\n",
    "    def compute_tower_hanoi_steps(num_rings_to_move, from_peg, to_peg,\n",
    "                                  use_peg):\n",
    "        if num_rings_to_move > 0:\n",
    "            compute_tower_hanoi_steps(num_rings_to_move - 1, from_peg, use_peg,\n",
    "                                      to_peg)\n",
    "            pegs[to_peg].append(pegs[from_peg].pop())\n",
    "            print(\"pegs: \", pegs)\n",
    "            result.append([from_peg, to_peg])\n",
    "            #print(\"result: \", result)\n",
    "            compute_tower_hanoi_steps(num_rings_to_move - 1, use_peg, to_peg,\n",
    "                                      from_peg)\n",
    "\n",
    "    # Initialize pegs.\n",
    "    result = []\n",
    "    pegs = [list(reversed(range(1, num_rings + 1)))] + [[] for _ in range(1, num_pegs)]\n",
    "    print(\"\\npegs0: \", pegs)\n",
    "    compute_tower_hanoi_steps(num_rings, 0, 1, 2)\n",
    "    return result\n",
    "\n",
    "num_pegs = 3\n",
    "num_rings = 3\n",
    "print(compute_tower_hanoi(num_pegs, num_rings))\n",
    "\n",
    "num_rings = 4\n",
    "print(compute_tower_hanoi(num_pegs, num_rings))"
   ]
  },
  {
   "cell_type": "code",
   "execution_count": null,
   "metadata": {},
   "outputs": [],
   "source": []
  },
  {
   "cell_type": "code",
   "execution_count": null,
   "metadata": {},
   "outputs": [],
   "source": []
  },
  {
   "cell_type": "code",
   "execution_count": null,
   "metadata": {},
   "outputs": [],
   "source": []
  }
 ],
 "metadata": {
  "kernelspec": {
   "display_name": "Python 3",
   "language": "python",
   "name": "python3"
  },
  "language_info": {
   "codemirror_mode": {
    "name": "ipython",
    "version": 3
   },
   "file_extension": ".py",
   "mimetype": "text/x-python",
   "name": "python",
   "nbconvert_exporter": "python",
   "pygments_lexer": "ipython3",
   "version": "3.7.0"
  }
 },
 "nbformat": 4,
 "nbformat_minor": 2
}
