{
 "cells": [
  {
   "cell_type": "code",
   "execution_count": null,
   "metadata": {},
   "outputs": [],
   "source": [
    "\"\"\"Python @Property -- Source: https://www.programiz.com/python-programming/property\"\"\"\n",
    "class Celsius:\n",
    "    def __init__(self, temperature = 0):\n",
    "        self._temperature = temperature\n",
    "\n",
    "    def to_fahrenheit(self):\n",
    "        return (self.temperature * 1.8) + 32\n",
    "\n",
    "    @property\n",
    "    def temperature(self):\n",
    "        print(\"Getting value\")\n",
    "        return self._temperature\n",
    "\n",
    "    @temperature.setter\n",
    "    def temperature(self, value):\n",
    "        if value < -273:\n",
    "            raise ValueError(\"Temperature below -273 is not possible\")\n",
    "        print(\"Setting value\")\n",
    "        self._temperature = value"
   ]
  },
  {
   "cell_type": "code",
   "execution_count": null,
   "metadata": {},
   "outputs": [],
   "source": [
    "\"\"\"Python Shallow Copy and Deep Copy: https://www.programiz.com/python-programming/shallow-deep-copy\"\"\"\n",
    "old_list = [[1, 2, 3], [4, 5, 6], [7, 8, 'a']]\n",
    "new_list = old_list\n",
    "\n",
    "new_list[2][2] = 'Z'\n",
    "\n",
    "print('Old List:', old_list)\n",
    "print('ID of Old List:', id(old_list))\n",
    "\n",
    "print('New List:', new_list)\n",
    "print('ID of New List:', id(new_list))\n",
    "\n",
    "import copy\n",
    "old_list = [[1, 1, 1], [2, 2, 2], [3, 3, 3]]\n",
    "shallow_list = copy.copy(old_list)\n",
    "\n",
    "old_list.append([4, 4, 4])\n",
    "shallow_list.append([5, 5, 5])\n",
    "\n",
    "print(\"Old list:\", old_list)\n",
    "print(\"Shallow list:\", shallow_list)\n",
    "\n",
    "old_list[1][1] = 'AA'\n",
    "\n",
    "print(\"Old list:\", old_list)\n",
    "print(\"shallow_list:\", shallow_list)\n",
    "print('ID of Old List:', id(old_list))\n",
    "print('ID of shallow_list:', id(shallow_list))\n",
    "\n",
    "\n",
    "\n",
    "old_list = [[1, 1, 1], [2, 2, 2], [3, 3, 3]]\n",
    "Deep_list = copy.deepcopy(old_list)\n",
    "\n",
    "old_list.append([4, 4, 4])\n",
    "\n",
    "print(\"Old list:\", old_list)\n",
    "print(\"Deep list:\", Deep_list)\n",
    "\n",
    "old_list[1][1] = 'AA'\n",
    "\n",
    "print(\"Old list:\", old_list)\n",
    "print(\"Deep list:\", Deep_list)\n",
    "\n",
    "print('ID of Old List:', id(old_list))\n",
    "print('ID of Deep_list:', id(Deep_list))\n"
   ]
  },
  {
   "cell_type": "code",
   "execution_count": 28,
   "metadata": {},
   "outputs": [
    {
     "ename": "TypeError",
     "evalue": "'ContentFilter' object is not callable",
     "output_type": "error",
     "traceback": [
      "\u001b[0;31m---------------------------------------------------------------------------\u001b[0m",
      "\u001b[0;31mTypeError\u001b[0m                                 Traceback (most recent call last)",
      "\u001b[0;32m<ipython-input-28-b461dd9e4130>\u001b[0m in \u001b[0;36m<module>\u001b[0;34m\u001b[0m\n\u001b[1;32m      3\u001b[0m \u001b[0mr\u001b[0m \u001b[0;34m=\u001b[0m \u001b[0mreduce\u001b[0m\u001b[0;34m(\u001b[0m\u001b[0;34m(\u001b[0m\u001b[0;32mlambda\u001b[0m \u001b[0mx\u001b[0m\u001b[0;34m,\u001b[0m \u001b[0my\u001b[0m\u001b[0;34m:\u001b[0m \u001b[0mx\u001b[0m \u001b[0;34m*\u001b[0m \u001b[0my\u001b[0m\u001b[0;34m)\u001b[0m\u001b[0;34m,\u001b[0m \u001b[0;34m[\u001b[0m\u001b[0;36m1\u001b[0m\u001b[0;34m,\u001b[0m \u001b[0;36m2\u001b[0m\u001b[0;34m,\u001b[0m \u001b[0;36m3\u001b[0m\u001b[0;34m,\u001b[0m \u001b[0;36m4\u001b[0m\u001b[0;34m]\u001b[0m\u001b[0;34m)\u001b[0m\u001b[0;34m\u001b[0m\u001b[0m\n\u001b[1;32m      4\u001b[0m \u001b[0mm\u001b[0m \u001b[0;34m=\u001b[0m \u001b[0mlist\u001b[0m\u001b[0;34m(\u001b[0m\u001b[0mmap\u001b[0m\u001b[0;34m(\u001b[0m\u001b[0;32mlambda\u001b[0m \u001b[0mx\u001b[0m\u001b[0;34m:\u001b[0m \u001b[0mx\u001b[0m \u001b[0;34m*\u001b[0m \u001b[0mx\u001b[0m\u001b[0;34m,\u001b[0m \u001b[0;34m[\u001b[0m\u001b[0;36m1\u001b[0m\u001b[0;34m,\u001b[0m \u001b[0;36m2\u001b[0m\u001b[0;34m,\u001b[0m \u001b[0;36m3\u001b[0m\u001b[0;34m,\u001b[0m \u001b[0;36m4\u001b[0m\u001b[0;34m]\u001b[0m\u001b[0;34m)\u001b[0m\u001b[0;34m)\u001b[0m\u001b[0;34m\u001b[0m\u001b[0m\n\u001b[0;32m----> 5\u001b[0;31m \u001b[0mf\u001b[0m \u001b[0;34m=\u001b[0m \u001b[0mlist\u001b[0m\u001b[0;34m(\u001b[0m\u001b[0mfilter\u001b[0m\u001b[0;34m(\u001b[0m\u001b[0;32mlambda\u001b[0m \u001b[0mx\u001b[0m\u001b[0;34m:\u001b[0m \u001b[0mx\u001b[0m \u001b[0;34m<\u001b[0m \u001b[0;36m0\u001b[0m\u001b[0;34m,\u001b[0m \u001b[0;34m[\u001b[0m\u001b[0;34m-\u001b[0m\u001b[0;36m1\u001b[0m\u001b[0;34m,\u001b[0m \u001b[0;34m-\u001b[0m\u001b[0;36m2\u001b[0m\u001b[0;34m,\u001b[0m \u001b[0;36m3\u001b[0m\u001b[0;34m,\u001b[0m \u001b[0;36m4\u001b[0m\u001b[0;34m]\u001b[0m\u001b[0;34m)\u001b[0m\u001b[0;34m)\u001b[0m\u001b[0;34m\u001b[0m\u001b[0m\n\u001b[0m\u001b[1;32m      6\u001b[0m \u001b[0mprint\u001b[0m\u001b[0;34m(\u001b[0m\u001b[0mr\u001b[0m\u001b[0;34m)\u001b[0m\u001b[0;34m\u001b[0m\u001b[0m\n\u001b[1;32m      7\u001b[0m \u001b[0mprint\u001b[0m\u001b[0;34m(\u001b[0m\u001b[0mm\u001b[0m\u001b[0;34m)\u001b[0m\u001b[0;34m\u001b[0m\u001b[0m\n",
      "\u001b[0;31mTypeError\u001b[0m: 'ContentFilter' object is not callable"
     ]
    }
   ],
   "source": [
    "\"\"\"MAP, REDUCE, and FILTER\"\"\"\n",
    "from functools import reduce\n",
    "r = reduce((lambda x, y: x * y), [1, 2, 3, 4])\n",
    "m = list(map(lambda x: x * x, [1, 2, 3, 4]))\n",
    "f = list(filter(lambda x: x < 0, [-1, -2, 3, 4]))\n",
    "print(r)\n",
    "print(m)\n",
    "print(f)"
   ]
  },
  {
   "cell_type": "code",
   "execution_count": null,
   "metadata": {},
   "outputs": [],
   "source": []
  }
 ],
 "metadata": {
  "kernelspec": {
   "display_name": "Python 3",
   "language": "python",
   "name": "python3"
  },
  "language_info": {
   "codemirror_mode": {
    "name": "ipython",
    "version": 3
   },
   "file_extension": ".py",
   "mimetype": "text/x-python",
   "name": "python",
   "nbconvert_exporter": "python",
   "pygments_lexer": "ipython3",
   "version": "3.7.0"
  }
 },
 "nbformat": 4,
 "nbformat_minor": 2
}
