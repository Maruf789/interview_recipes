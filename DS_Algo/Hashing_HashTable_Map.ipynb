{
 "cells": [
  {
   "cell_type": "code",
   "execution_count": 3,
   "metadata": {},
   "outputs": [
    {
     "name": "stdout",
     "output_type": "stream",
     "text": [
      "[77, 44, 55, 20, 26, 93, 17, None, None, 31, 54]\n",
      "['bird', 'goat', 'pig', 'chicken', 'dog', 'lion', 'tiger', None, None, 'cow', 'cat']\n",
      "chicken\n",
      "tiger\n",
      "duck\n",
      "None\n"
     ]
    }
   ],
   "source": [
    "\"\"\"Custom HashTable/Dictionary/Map Class Implementation w/Hashing\"\"\"\n",
    "class HashTable:\n",
    "    def __init__(self, initsize):\n",
    "        self.size = initsize\n",
    "        self.keys = [None] * self.size\n",
    "        self.values = [None] * self.size\n",
    "\n",
    "    def put(self,key,values):\n",
    "        hash = self.hashfunction(key,len(self.keys))\n",
    "        if self.keys[hash] == None:\n",
    "            self.keys[hash] = key\n",
    "            self.values[hash] = values\n",
    "        else:\n",
    "            if self.keys[hash] == key:\n",
    "                self.values[hash] = values  #replace\n",
    "            else:\n",
    "                nexthash = self.rehash(hash,len(self.keys))\n",
    "                while self.keys[nexthash] != None and self.keys[nexthash] != key:\n",
    "                    nexthash = self.rehash(nexthash,len(self.keys))\n",
    "\n",
    "                if self.keys[nexthash] == None:\n",
    "                    self.keys[nexthash]=key\n",
    "                    self.values[nexthash]=values\n",
    "                else:\n",
    "                    self.values[nexthash] = values #replace\n",
    "\n",
    "    def hashfunction(self,key,size):\n",
    "         return key%size\n",
    "\n",
    "    def rehash(self,oldhash,size):\n",
    "        return (oldhash+1)%size\n",
    "\n",
    "    def get(self,key):\n",
    "        initial_hash = self.hashfunction(key,len(self.keys))\n",
    "\n",
    "        values = None\n",
    "        stop = False\n",
    "        found = False\n",
    "        hash = initial_hash\n",
    "        while self.keys[hash] != None and \\\n",
    "            not found and not stop:\n",
    "            if self.keys[hash] == key:\n",
    "                found = True\n",
    "                values = self.values[hash]\n",
    "            else:\n",
    "                hash = self.rehash(hash,len(self.keys))\n",
    "                if hash == initial_hash:\n",
    "                    stop = True\n",
    "        return values\n",
    "\n",
    "    def __getitem__(self,key):\n",
    "        return self.get(key)\n",
    "\n",
    "    def __setitem__(self,key,values):\n",
    "        self.put(key,values)\n",
    "\n",
    "H=HashTable(11)\n",
    "H[54]=\"cat\"\n",
    "H[26]=\"dog\"\n",
    "H[93]=\"lion\"\n",
    "H[17]=\"tiger\"\n",
    "H[77]=\"bird\"\n",
    "H[31]=\"cow\"\n",
    "H[44]=\"goat\"\n",
    "H[55]=\"pig\"\n",
    "H[20]=\"chicken\"\n",
    "print(H.keys)\n",
    "print(H.values)\n",
    "\n",
    "print(H[20])\n",
    "\n",
    "print(H[17])\n",
    "H[20]='duck'\n",
    "print(H[20])\n",
    "print(H[99])"
   ]
  },
  {
   "cell_type": "code",
   "execution_count": null,
   "metadata": {},
   "outputs": [],
   "source": []
  },
  {
   "cell_type": "code",
   "execution_count": null,
   "metadata": {},
   "outputs": [],
   "source": []
  },
  {
   "cell_type": "code",
   "execution_count": null,
   "metadata": {},
   "outputs": [],
   "source": []
  }
 ],
 "metadata": {
  "kernelspec": {
   "display_name": "Python 3",
   "language": "python",
   "name": "python3"
  },
  "language_info": {
   "codemirror_mode": {
    "name": "ipython",
    "version": 3
   },
   "file_extension": ".py",
   "mimetype": "text/x-python",
   "name": "python",
   "nbconvert_exporter": "python",
   "pygments_lexer": "ipython3",
   "version": "3.7.0"
  }
 },
 "nbformat": 4,
 "nbformat_minor": 2
}
