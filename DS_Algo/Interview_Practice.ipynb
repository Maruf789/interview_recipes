{
 "cells": [
  {
   "cell_type": "code",
   "execution_count": null,
   "metadata": {},
   "outputs": [],
   "source": [
    "\"\"\" \n",
    "============= Travelling Salesman Problem ===================\n",
    "\"\"\""
   ]
  },
  {
   "cell_type": "code",
   "execution_count": null,
   "metadata": {},
   "outputs": [],
   "source": [
    "\"\"\" \n",
    "============= Knapsack Problem ===================\n",
    "\"\"\""
   ]
  },
  {
   "cell_type": "code",
   "execution_count": null,
   "metadata": {},
   "outputs": [],
   "source": [
    "\"\"\"Write a function to reverse a string.\"\"\"\n"
   ]
  },
  {
   "cell_type": "code",
   "execution_count": null,
   "metadata": {},
   "outputs": [],
   "source": [
    "\"\"\"Print out the grade-school multiplication table up to 12x12\"\"\""
   ]
  },
  {
   "cell_type": "code",
   "execution_count": null,
   "metadata": {},
   "outputs": [],
   "source": [
    "\"\"\" Write a function that sums up integers from a text file, one int per line.\"\"\""
   ]
  },
  {
   "cell_type": "code",
   "execution_count": null,
   "metadata": {},
   "outputs": [],
   "source": [
    "\"\"\"Write function to print the odd numbers from 1 to 99.\"\"\""
   ]
  },
  {
   "cell_type": "code",
   "execution_count": null,
   "metadata": {},
   "outputs": [],
   "source": [
    "\"\"\"Find the largest int value in an int array.\"\"\""
   ]
  },
  {
   "cell_type": "code",
   "execution_count": null,
   "metadata": {},
   "outputs": [],
   "source": [
    "\"\"\"Format an RGB value (three 1-byte numbers) as a 6-digit hexadecimal string.\"\"\""
   ]
  },
  {
   "cell_type": "code",
   "execution_count": null,
   "metadata": {},
   "outputs": [],
   "source": [
    "\"\"\"\n",
    "OO Topics:\n",
    "\n",
    "class, object (and the difference between the two)\n",
    "instantiation\n",
    "method (as opposed to, say, a C function)\n",
    "virtual method, pure virtual method\n",
    "class/static method\n",
    "static/class initializer\n",
    "constructor\n",
    "destructor/finalizer\n",
    "superclass or base class\n",
    "subclass or derived class\n",
    "inheritance\n",
    "encapsulation\n",
    "multiple inheritance (and give an example)\n",
    "delegation/forwarding\n",
    "composition/aggregation\n",
    "abstract class\n",
    "interface/protocol (and different from abstract class)\n",
    "method overriding\n",
    "method overloading (and difference from overriding)\n",
    "polymorphism (without resorting to examples)\n",
    "is-a versus has-a relationships (with examples)\n",
    "method signatures (what's included in one)\n",
    "method visibility (e.g. public/private/other)\n",
    "difference between a static member and an instance member\n",
    "when to use a subclass versus an attribute or property\n",
    "the difference between a char*, an object, and an enum\n",
    "polymorphism vs. inheritance. \n",
    "\"\"\""
   ]
  },
  {
   "cell_type": "code",
   "execution_count": null,
   "metadata": {},
   "outputs": [],
   "source": [
    "\"\"\"OO Design\n",
    "Here are some examples:\n",
    "\n",
    "1. Design a deck of cards that can be used for different card game applications.\n",
    "    Likely classes: a Deck, a Card, a Hand, a Board, and possibly Rank and Suit. \n",
    "    Drill down on who's responsible for creating new Decks, where they get shuffled,\n",
    "    how you deal cards, etc. Do you need a different instance for every card in \n",
    "    a casino in Vegas?\n",
    "\n",
    "2. Model the Animal kingdom as a class system, for use in a Virtual Zoo program.\n",
    "    Possible sub-issues: do they know the animal kingdom at all? (I.e. common sense.) \n",
    "    What properties and methods do they immediately think are the most important?\n",
    "    Do they use abstract classes and/or interfaces to represent shared stuff? \n",
    "    How do they handle the multiple-inheritance problem posed by, say, a tomato \n",
    "    (fruit or veggie?), a sponge (animal or plant?), or a mule (donkey or horse?)\n",
    "    Create a class design to represent a filesystem.\n",
    "\n",
    "3. Do they even know what a filesystem is, and what services it provides? \n",
    "    Likely classes: Filesystem, Directory, File, Permission. \n",
    "    What's their relationship? How do you differentiate between text \n",
    "    and binary files, or do you need to? What about executable files? \n",
    "    How do they model a Directory containing many files? Do they use a \n",
    "    data structure for it? Which one, and what performance tradeoffs does it have?\n",
    "\n",
    "4. Design an OO representation to model HTML.\n",
    "    How do they represent tags and content?\n",
    "    What about containment relationships?\n",
    "    Bonus points if they know that this has already been done a bunch of times,\n",
    "    e.g. with DOM. But they still have to describe it.\n",
    "\n",
    "The following commonly-asked OO design interview questions are probably too \n",
    "involved to be good phone-screen weeders:\n",
    "\n",
    "5. Design a parking garage.\n",
    "6. Design a bank of elevators in a skyscraper.\n",
    "7. Model the monorail system at Disney World.\n",
    "8. Design a restaurant-reservation system.\n",
    "9. Design a hotel room-reservation system.\n",
    "\n",
    "\"\"\""
   ]
  },
  {
   "cell_type": "code",
   "execution_count": null,
   "metadata": {},
   "outputs": [],
   "source": [
    "\"\"\" Regex Question -- GREP/SED\n",
    "Last year my team had to remove all the phone numbers from 50,000\n",
    "Amazon web page templates, since many of the numbers were no longer in\n",
    "service, and we also wanted to route all customer contacts through a single page.\n",
    "\n",
    "Let's say you're on my team, and we have to identify the pages having \n",
    "probable U.S. phone numbers in them. To simplify the problem slightly,\n",
    "assume we have 50,000 HTML files in a Unix directory tree, under a directory\n",
    "called \"/website\". We have 2 days to get a list of file paths to the editorial \n",
    "staff. You need to give me a list of the .html files in this directory tree that\n",
    "appear to contain phone numbers\n",
    "in the following two formats: (xxx) xxx-xxxx and xxx-xxx-xxxx.\n",
    "\n",
    "How would you solve this problem? Keep in mind our team is \n",
    "on a short (2-day) timeline.\n",
    "\n",
    "Here's one of many possible solutions to the problem:\n",
    "\n",
    "  grep -l -R --perl-regexp \"\\b(\\(\\d{3}\\)\\s*|\\d{3}-)\\d{3}-\\d{4}\\b\" * > output.txt\n",
    "  \n",
    "  OR, they can use find, or write a Perl script (or awk or bash or etc.).\n",
    "\n",
    "\"\"\""
   ]
  },
  {
   "cell_type": "code",
   "execution_count": null,
   "metadata": {},
   "outputs": [],
   "source": [
    "\"\"\"\n",
    "Code formatting question\n",
    "\n",
    "Let's say you're on my team, and I've decided I'm a real stickler for code \n",
    "formatting. But I've got peculiar tastes, and one day I decide I want to have \n",
    "all parentheses stand out very clearly in your code.\n",
    "\n",
    "So let's say you've got a set of source files in C, C++, or Java. Your choice.\n",
    "And I want you to modify them so that in each source file, every open- and \n",
    "close-paren has exactly one space character before and after it. If there \n",
    "is any other whitespace around the paren, it's collapsed into a single space character.\n",
    "\n",
    "For instance, this code:\n",
    "\n",
    "foo (bar ( new Point(x, graph.getY()) ));\n",
    "\n",
    "Would be modified to look like this:\n",
    "\n",
    "foo ( bar ( new Point ( x, graph.getY ( ) ) ) ) ;\n",
    "\n",
    "I tell you (as your manager) that I don't care how you solve this problem.\n",
    "You can take the code down to Kinko's Copies and manually cut and paste the \n",
    "characters with scissors if you like.\n",
    "\n",
    "How will you solve this problem?\n",
    "\n",
    "\n",
    "-- ou'd do it with a Unix command like sed (using a regular expression), \n",
    "or do it in your editor using a regex, or write a quick Ruby script, whatever.\n",
    "\"\"\""
   ]
  },
  {
   "cell_type": "code",
   "execution_count": null,
   "metadata": {},
   "outputs": [],
   "source": [
    "\"\"\"Data Structure to prep for interviews:\n",
    "arrays\n",
    "vectors\n",
    "linkedLists\n",
    "hashtables\n",
    "trees\n",
    "graphs\n",
    "\n",
    "KNOW---\n",
    "what you use them for (real-life examples)\n",
    "why you prefer them for those examples\n",
    "the operations they typically provide (e.g. insert, delete, find)\n",
    "the big-O performance of those operations (e.g. logarithmic, exponential)\n",
    "how you traverse them to visit all their elements, and what order they're visited in\n",
    "at least one typical implementation for the data structure\n",
    "\n",
    "KNOW---\n",
    " the difference between an abstract data type such as a Stack, Map, List or Set,\n",
    " and a concrete data structure such as a singly-linked list or a hash table.\n",
    " For a given abstract data type (e.g. a Queue), they should be able to suggest \n",
    " at least two possible concrete implementations, and explain the performance\n",
    " trade-offs between the two implementations.\n",
    "\n",
    "KNOW---\n",
    "1) What are some really common data structures, e.g. in java.util?\n",
    "2) When would you use a linked list vs. a vector?\n",
    "3) Can you implement a Map with a tree? What about with a list?\n",
    "4) How do you print out the nodes of a tree in level-order (i.e. first level, then 2nd level,\n",
    "then 3rd level, etc.)\n",
    "5) What's the worst-case insertion performance of a hashtable? Of a binary tree?\n",
    "6) What are some options for implementing a priority queue?\n",
    "\"\"\"\n"
   ]
  },
  {
   "cell_type": "code",
   "execution_count": null,
   "metadata": {},
   "outputs": [],
   "source": [
    "\"\"\"Bits and Bytes\n",
    "\n",
    "KNOW---\n",
    "1. what bits and bytes are. \n",
    "2. They should be able to count in binary, in hexadecimal, and\n",
    "    should be able to convert between the binary, octal, and \n",
    "    hex representations of a number.\n",
    "3. The logical operations AND, OR, NOT, and XOR (how to write them in python?)\n",
    "4. The difference between a bitwise-AND and a logical-AND;\n",
    "5. The probable sizes of the primitive data types for a\n",
    "    standard 32-bit (e.g. Intel) architecture.\n",
    "    (If they're a Java programmer, they should know exactly what \n",
    "    the primitive types are (byte, short, int, long, float, double, char,\n",
    "    boolean) and, except for boolean, exactly how much space is allocated for\n",
    "    them per the Java Language specification.\n",
    "    If C/C++ programmers, you should know about the sizeof operator and \n",
    "    how (and why/when) to use it.)\n",
    "6. the difference between signed and unsigned types, what it does to the range\n",
    "    of representable values for that type, and whether their language supports \n",
    "    signed vs. unsigned types.\n",
    "7. the bitwise and logical operators for their language and use them to \n",
    "    setting or testing a specific bit, or set of bits\n",
    "8. the bit-shift operators in their language, and should \n",
    "know why you would want to use them.\n",
    "\n",
    "\n",
    "WEEDER QUESTIONS:\n",
    "1. Tell me how to test whether the high-order bit is set in a byte.\n",
    "2. Write a function to count all the bits in an int value;\n",
    "    e.g. the function with the signature int countBits(int x)\n",
    "3. Describe a function that takes an int value, and returns true if the \n",
    "    bit pattern of that int value is the same if you reverse it (i.e. it's a palindrome);\n",
    "    i.e. boolean isPalindrome(int x)\n",
    "4. \n",
    "\n",
    "\"\"\""
   ]
  },
  {
   "cell_type": "code",
   "execution_count": null,
   "metadata": {},
   "outputs": [],
   "source": [
    "\"\"\"Operating Systems'\n",
    "\n",
    "Resource: \n",
    "https://medium.com/cracking-the-data-science-interview/how-operating-systems-work-10-concepts-you-should-know-as-a-developer-8d63bb38331f\n",
    "https://homepage.cs.uri.edu/faculty/wolfe/book/Readings/Reading04.htm\n",
    "Udacity\n",
    "\n",
    "KNOW--\n",
    "Understand processes, threads, concurrency issues, \n",
    "locks, mutexes, semaphores, monitors and how they all work. \n",
    "Understand deadlock, livelock and how to avoid them. \n",
    "Know what resources a process needs and a thread needs.\n",
    "Understand how context switching works, how it's initiated by \n",
    "the operating system and underlying hardware. Know a little about scheduling.\n",
    "The world is rapidly moving towards multi-core, so know the fundamentals of \n",
    "\"modern\" concurrency constructs.\n",
    "\"\"\""
   ]
  }
 ],
 "metadata": {
  "kernelspec": {
   "display_name": "Python 3",
   "language": "python",
   "name": "python3"
  },
  "language_info": {
   "codemirror_mode": {
    "name": "ipython",
    "version": 3
   },
   "file_extension": ".py",
   "mimetype": "text/x-python",
   "name": "python",
   "nbconvert_exporter": "python",
   "pygments_lexer": "ipython3",
   "version": "3.7.0"
  }
 },
 "nbformat": 4,
 "nbformat_minor": 2
}
