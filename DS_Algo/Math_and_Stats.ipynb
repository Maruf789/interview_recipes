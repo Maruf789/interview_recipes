{
 "cells": [
  {
   "cell_type": "code",
   "execution_count": null,
   "metadata": {},
   "outputs": [],
   "source": [
    "def integer_divide(x, y):\n",
    "  \n",
    "  if y == 0: # We will return -1 if the divisor is '0'.\n",
    "    return -1\n",
    "    \n",
    "  if x < y:\n",
    "    return 0\n",
    "  elif x == y:\n",
    "    return 1\n",
    "  elif y == 1:\n",
    "    return x\n",
    "\n",
    "  q = 1\n",
    "  val = y\n",
    "\n",
    "  while val < x:\n",
    "    val = val << 1 # in other words, 'val = val + val' or 'val = val * 2'\n",
    "    q = q << 1     # in other words, 'q = q + q' or 'q = q * 2'\n",
    "\n",
    "  if val > x:\n",
    "    val = val >> 1  # in other words, 'val = val // 2'\n",
    "    q = q >> 1      # in other words, 'q = q // 2'\n",
    "    return q + integer_divide(x-val, y)\n",
    "\n",
    "  return q\n",
    "\n",
    "#main\n",
    "print(integer_divide(55,11))\n",
    "print(integer_divide(54,2))\n",
    "print(integer_divide(51,13))\n",
    "print(integer_divide(51,0))\n"
   ]
  },
  {
   "cell_type": "code",
   "execution_count": null,
   "metadata": {},
   "outputs": [],
   "source": [
    "def integer_multiply_brute(x, y): # O(n), O(1)\n",
    "  if x == 0 or y == 0:\n",
    "    return 0\n",
    "\n",
    "  result = 0\n",
    "  for i in range(x): \n",
    "      result += y\n",
    "\n",
    "  return result\n",
    "\n",
    "def integer_multiply(x, y): # O(log(n)), O(1)\n",
    "    result = 0\n",
    "    count = 0\n",
    "    while x > 0:       \n",
    "        if (x % 2 == 1):  # check for set bit and left shift on y 'count' times \n",
    "            result += y << count \n",
    "#             print(\"x: {}, y: {},  count: {}, y << count: {}, result: {}\".format(\n",
    "#                 x, y, count, y << count , result))\n",
    "  \n",
    "        count += 1        # increment of place value (count) \n",
    "        x =  x >> 1       # x = x // 2 \n",
    "  \n",
    "    return result \n",
    "  \n",
    "# Driver code \n",
    "if __name__ == '__main__':  \n",
    "    print(integer_multiply_brute(7, 2)) # 14\n",
    "    print(integer_multiply_brute(5, 4)) # 20\n",
    "    print(integer_multiply_brute(1, 3)) # 3\n",
    "    print(integer_multiply_brute(0, 3)) # 0\n",
    "    print(integer_multiply(7, 2)) # 14\n",
    "    print(integer_multiply(5, 4)) # 20\n",
    "    print(integer_multiply(1, 3)) # 3\n",
    "    print(integer_multiply(0, 3)) # 0\n"
   ]
  },
  {
   "cell_type": "code",
   "execution_count": null,
   "metadata": {},
   "outputs": [],
   "source": [
    "print(\"Left Shit Operator: \")\n",
    "print(\"Given: \", int(bin(0b1111), 2))\n",
    "print(bin(0b1111 << 1))\n",
    "print(int(bin(0b1111 << 1), 2))\n",
    "print()\n",
    "print(\"Right Shit Operator: \")\n",
    "print(\"Given: \", int(bin(0b1111), 2))\n",
    "print(bin(0b1111 >> 1))\n",
    "print(int(bin(0b1111 >> 1), 2))\n",
    "\n",
    "print()\n",
    "print(\"Given: \", int(bin(0b1111), 2))\n",
    "print(int(bin(0b1111 << 1), 2)) # '0b11110'\n",
    "print(int(bin(0b1111 << 2), 2)) # '0b111100'\n",
    "print(int(bin(0b1111 << 3), 2)) # '0b1111000'\n",
    "print(int(bin(0b1111 << 4), 2)) # '0b11110000'"
   ]
  },
  {
   "cell_type": "code",
   "execution_count": 95,
   "metadata": {},
   "outputs": [
    {
     "name": "stdout",
     "output_type": "stream",
     "text": [
      "[3, 8, 4, 2, 1, 16, 5, 25, 10, 6]\n",
      "****\n",
      "[5, 3, 4]\n",
      "[10, 6, 8]\n"
     ]
    }
   ],
   "source": [
    "def find_pythagorean_triplets_1(arr):\n",
    "    n = len(arr)\n",
    "    triplets = []\n",
    "    for i in range(0, n-2):\n",
    "        if arr[i] == 0:\n",
    "            continue\n",
    "    \n",
    "        for j in range(i + 1, n-1):\n",
    "            if arr[j] == 0:\n",
    "                continue\n",
    "\n",
    "            for k in range(j + 1, n):\n",
    "                if is_pythagorean_triplet(arr[i], arr[j], arr[k]):\n",
    "                    triplets.append([arr[i], arr[j], arr[k]])\n",
    "\n",
    "    return triplets\n",
    "\n",
    "def is_pythagorean_triplet(a, b, c): # Brute Force: O(n^3), O(1)\n",
    "    sqra = a * a\n",
    "    sqrb = b * b\n",
    "    sqrc = c * c\n",
    "\n",
    "    if sqra + sqrb == sqrc:\n",
    "        return True\n",
    "    elif sqra + sqrc == sqrb:\n",
    "        return True\n",
    "    elif sqrb + sqrc == sqra:\n",
    "        return True\n",
    "    else:\n",
    "        return False\n",
    "\n",
    "def main():\n",
    "    import random\n",
    "    l1 = [4,16,1,2,3,5,6,8,25,10]\n",
    "    random.shuffle(l1)\n",
    "    print(l1)\n",
    "    t1 = find_pythagorean_triplets(l1)\n",
    "    print(\"****\")\n",
    "    for x in t1:\n",
    "        print(x)\n",
    "\n",
    "main()"
   ]
  },
  {
   "cell_type": "code",
   "execution_count": 119,
   "metadata": {},
   "outputs": [
    {
     "name": "stdout",
     "output_type": "stream",
     "text": [
      "0b100 4\n",
      "0b1011 11\n",
      "0b1 1\n",
      "[{0: '0b0'}, {1: '0b1'}, {2: '0b10'}, {3: '0b11'}, {4: '0b100'}, {5: '0b101'}, {6: '0b110'}, {7: '0b111'}, {8: '0b1000'}, {9: '0b1001'}, {10: '0b1010'}, {11: '0b1011'}, {12: '0b1100'}, {13: '0b1101'}, {14: '0b1110'}, {15: '0b1111'}]\n"
     ]
    }
   ],
   "source": [
    "print(bin(0b110 & 0b101), int(bin(0b110 & 0b101), 2))\n",
    "print(bin(0b110 + 0b101), int(bin(0b110 + 0b101), 2))\n",
    "print(bin(0b110 - 0b101), int(bin(0b110 - 0b101), 2))\n",
    "\n",
    "print([{x: bin(x)} for x in list(range(16))])\n"
   ]
  },
  {
   "cell_type": "code",
   "execution_count": null,
   "metadata": {},
   "outputs": [],
   "source": []
  }
 ],
 "metadata": {
  "kernelspec": {
   "display_name": "Python 3",
   "language": "python",
   "name": "python3"
  },
  "language_info": {
   "codemirror_mode": {
    "name": "ipython",
    "version": 3
   },
   "file_extension": ".py",
   "mimetype": "text/x-python",
   "name": "python",
   "nbconvert_exporter": "python",
   "pygments_lexer": "ipython3",
   "version": "3.7.0"
  }
 },
 "nbformat": 4,
 "nbformat_minor": 2
}
